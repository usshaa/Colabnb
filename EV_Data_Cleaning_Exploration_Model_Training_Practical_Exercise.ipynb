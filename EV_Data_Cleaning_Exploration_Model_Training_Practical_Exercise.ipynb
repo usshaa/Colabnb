{
  "cells": [
    {
      "cell_type": "markdown",
      "metadata": {
        "id": "view-in-github",
        "colab_type": "text"
      },
      "source": [
        "<a href=\"https://colab.research.google.com/github/usshaa/Colabnb/blob/main/EV_Data_Cleaning_Exploration_Model_Training_Practical_Exercise.ipynb\" target=\"_parent\"><img src=\"https://colab.research.google.com/assets/colab-badge.svg\" alt=\"Open In Colab\"/></a>"
      ]
    },
    {
      "cell_type": "markdown",
      "id": "a3f19ed1",
      "metadata": {
        "id": "a3f19ed1"
      },
      "source": [
        "# 🚗 EV Data Analytics – Data Cleaning & Exploration\n",
        "\n",
        "Each task has questions, and you are expected to **write solutions in the provided space**."
      ]
    },
    {
      "cell_type": "code",
      "execution_count": null,
      "id": "dfd0b8d1",
      "metadata": {
        "id": "dfd0b8d1"
      },
      "outputs": [],
      "source": [
        "import pandas as pd\n",
        "import numpy as np\n",
        "\n",
        "# Random seed for reproducibility\n",
        "np.random.seed(42)\n",
        "\n",
        "# Define some EV brands and models\n",
        "makes = [\"Tesla\", \"Nissan\", \"BMW\", \"Hyundai\", \"Kia\", \"Chevrolet\", \"Audi\"]\n",
        "models = {\n",
        "    \"Tesla\": [\"Model 3\", \"Model S\", \"Model X\", \"Model Y\"],\n",
        "    \"Nissan\": [\"Leaf\", \"Ariya\"],\n",
        "    \"BMW\": [\"i3\", \"i4\", \"iX\"],\n",
        "    \"Hyundai\": [\"Kona Electric\", \"Ioniq 5\"],\n",
        "    \"Kia\": [\"EV6\", \"Niro EV\"],\n",
        "    \"Chevrolet\": [\"Bolt EV\"],\n",
        "    \"Audi\": [\"e-tron\", \"Q4 e-tron\"]\n",
        "}\n",
        "\n",
        "# Generate synthetic rows\n",
        "rows = []\n",
        "for _ in range(100):\n",
        "    make = np.random.choice(makes)\n",
        "    model = np.random.choice(models[make])\n",
        "    year = np.random.randint(2015, 2024)\n",
        "    battery_capacity = np.random.choice([40, 50, 60, 70, 75, 80, 90, 100]) + np.random.randint(-5, 6)\n",
        "    range_km = int(battery_capacity * np.random.uniform(4, 6)) + np.random.randint(-20, 20)\n",
        "    charging_time = np.round(np.random.uniform(0.5, 12), 1)\n",
        "    price = np.random.randint(30000, 120000)\n",
        "    fast_charging = np.random.choice([\"Yes\", \"No\"], p=[0.7, 0.3])\n",
        "\n",
        "    rows.append([make, model, year, battery_capacity, range_km, charging_time, price, fast_charging])\n",
        "\n",
        "df = pd.DataFrame(rows, columns=[\n",
        "    \"Make\", \"Model\", \"Year\", \"Battery_Capacity_kWh\", \"Range_km\", \"Charging_Time_hr\", \"Price_USD\", \"Fast_Charging\"\n",
        "])\n",
        "\n",
        "# Introduce some missing values\n",
        "for col in [\"Battery_Capacity_kWh\", \"Range_km\", \"Fast_Charging\"]:\n",
        "    df.loc[df.sample(frac=0.05).index, col] = np.nan\n",
        "\n",
        "# Save dataset\n",
        "df.to_csv(\"ev_data.csv\", index=False)\n",
        "print(\"✅ Synthetic EV dataset saved as ev_data.csv\")\n",
        "df.head()"
      ]
    },
    {
      "cell_type": "code",
      "execution_count": null,
      "id": "93d8a1aa",
      "metadata": {
        "id": "93d8a1aa"
      },
      "outputs": [],
      "source": [
        "\n",
        "import pandas as pd\n",
        "\n",
        "# Load the dataset\n",
        "df = pd.read_csv(\"ev_data.csv\")\n",
        "df.head()\n"
      ]
    },
    {
      "cell_type": "markdown",
      "id": "73193a8b",
      "metadata": {
        "id": "73193a8b"
      },
      "source": [
        "## Task 1: Load the Dataset\n",
        "1. Load the dataset into a pandas DataFrame.\n",
        "2. Display the first 5 rows.\n",
        "\n",
        "❓ **Question:** What are the column names and their data types?\n",
        "\n",
        "✍️ **Your Answer:** (Fill here)\n"
      ]
    },
    {
      "cell_type": "markdown",
      "id": "19182063",
      "metadata": {
        "id": "19182063"
      },
      "source": [
        "## Task 2: Missing Values\n",
        "1. Check for missing values in the dataset.\n",
        "2. Display the percentage of missing values for each column.\n",
        "\n",
        "❓ **Question:** Which column has the highest percentage of missing values?\n",
        "\n",
        "✍️ **Your Answer:**\n"
      ]
    },
    {
      "cell_type": "markdown",
      "id": "d74de51f",
      "metadata": {
        "id": "d74de51f"
      },
      "source": [
        "## Task 3: Data Cleaning\n",
        "1. Handle missing values by:\n",
        "   - Filling numeric columns with median values.\n",
        "   - Filling categorical columns with mode.\n",
        "\n",
        "❓ **Question:** After cleaning, how many missing values remain?\n",
        "\n",
        "✍️ **Your Answer:**\n"
      ]
    },
    {
      "cell_type": "markdown",
      "id": "dcfa3d6b",
      "metadata": {
        "id": "dcfa3d6b"
      },
      "source": [
        "## Task 4: Duplicates\n",
        "1. Check for duplicate rows in the dataset.\n",
        "2. Remove duplicates if any.\n",
        "\n",
        "❓ **Question:** How many duplicate rows were removed?\n",
        "\n",
        "✍️ **Your Answer:**\n"
      ]
    },
    {
      "cell_type": "markdown",
      "id": "285466f1",
      "metadata": {
        "id": "285466f1"
      },
      "source": [
        "## Task 5: Outlier Detection\n",
        "1. Use boxplots to check for outliers in `Battery_Capacity_kWh` and `Range_km`.\n",
        "2. Decide whether to drop or cap them.\n",
        "\n",
        "❓ **Question:** Which column had more visible outliers?\n",
        "\n",
        "✍️ **Your Answer:**\n"
      ]
    },
    {
      "cell_type": "markdown",
      "id": "51b5b188",
      "metadata": {
        "id": "51b5b188"
      },
      "source": [
        "## Task 6: Basic Exploration\n",
        "1. Find the average `Battery_Capacity_kWh`.\n",
        "2. Find the most expensive EV (`Price_USD`).\n",
        "\n",
        "❓ **Question:** What is the average EV battery capacity?\n",
        "\n",
        "✍️ **Your Answer:**\n"
      ]
    },
    {
      "cell_type": "markdown",
      "id": "7ed11274",
      "metadata": {
        "id": "7ed11274"
      },
      "source": [
        "## Task 7: Grouping & Aggregation\n",
        "1. Group the data by `Make` and calculate the average `Range_km`.\n",
        "2. Sort to find the top 3 EV brands with the highest average range.\n",
        "\n",
        "❓ **Question:** Which 3 brands have the highest average range?\n",
        "\n",
        "✍️ **Your Answer:**\n"
      ]
    },
    {
      "cell_type": "markdown",
      "id": "b0b5db05",
      "metadata": {
        "id": "b0b5db05"
      },
      "source": [
        "## Task 8: Correlation Analysis\n",
        "1. Compute the correlation matrix for numeric columns.\n",
        "2. Identify the two variables with the strongest positive correlation.\n",
        "\n",
        "❓ **Question:** Which two variables are most strongly correlated?\n",
        "\n",
        "✍️ **Your Answer:**\n"
      ]
    },
    {
      "cell_type": "markdown",
      "id": "ecf330bb",
      "metadata": {
        "id": "ecf330bb"
      },
      "source": [
        "## Task 9: Visualization\n",
        "1. Create a histogram of EV prices.\n",
        "2. Create a bar chart comparing average range by `Fast_Charging` support.\n",
        "\n",
        "❓ **Question:** Do EVs with fast charging generally have higher ranges?\n",
        "\n",
        "✍️ **Your Answer:**\n"
      ]
    },
    {
      "cell_type": "markdown",
      "id": "03490823",
      "metadata": {
        "id": "03490823"
      },
      "source": [
        "## Task 10: Insights\n",
        "Write **3 key insights** you learned from this dataset after cleaning and exploration.\n",
        "\n",
        "✍️ **Your Answer:**\n"
      ]
    },
    {
      "cell_type": "markdown",
      "id": "e2108a42",
      "metadata": {
        "id": "e2108a42"
      },
      "source": [
        "## Task 11: Feature Engineering & Linear Regression"
      ]
    },
    {
      "cell_type": "markdown",
      "id": "2b5bac2f",
      "metadata": {
        "id": "2b5bac2f"
      },
      "source": [
        "### Task 11.1: Feature Engineering\n",
        "```python\n",
        "# TODO: Encode categorical variables (Make, Model, Fast_Charging)\n",
        "# TODO: Define features (X) and target (y = Price_USD)\n",
        "# TODO: Split dataset into train (80%) and test (20%)\n",
        "```\n",
        "❓ **Question:** Which features did you select for training?\n",
        "\n",
        "✍️ **Your Answer:**"
      ]
    },
    {
      "cell_type": "markdown",
      "id": "be3aaf32",
      "metadata": {
        "id": "be3aaf32"
      },
      "source": [
        "### Task 11.2: Model Building\n",
        "```python\n",
        "# TODO: Initialize LinearRegression model\n",
        "# TODO: Train model on training data\n",
        "```\n",
        "❓ **Question:** How many features were used in the final model?\n",
        "\n",
        "✍️ **Your Answer:**"
      ]
    },
    {
      "cell_type": "markdown",
      "id": "dcb79f0e",
      "metadata": {
        "id": "dcb79f0e"
      },
      "source": [
        "### Task 11.3: Prediction & Evaluation\n",
        "```python\n",
        "# TODO: Predict on test data\n",
        "# TODO: Compute MAE, MSE, RMSE, R2 Score\n",
        "```\n",
        "❓ **Question:** What is the R² score of your model?\n",
        "\n",
        "✍️ **Your Answer:**"
      ]
    },
    {
      "cell_type": "markdown",
      "id": "e74359c2",
      "metadata": {
        "id": "e74359c2"
      },
      "source": [
        "### Task 11.4: Sample Prediction\n",
        "```python\n",
        "# TODO: Predict the price for a sample EV with:\n",
        "# Make = Tesla, Model = Model 3, Battery = 75, Range = 450, Charging Time = 1.5, Fast_Charging = Yes\n",
        "```\n",
        "❓ **Question:** What is the predicted price of the Tesla Model 3 sample?\n",
        "\n",
        "✍️ **Your Answer:**"
      ]
    },
    {
      "cell_type": "markdown",
      "id": "ec9fba2d",
      "metadata": {
        "id": "ec9fba2d"
      },
      "source": []
    }
  ],
  "metadata": {
    "language_info": {
      "name": "python"
    },
    "colab": {
      "provenance": [],
      "include_colab_link": true
    },
    "kernelspec": {
      "name": "python3",
      "display_name": "Python 3"
    }
  },
  "nbformat": 4,
  "nbformat_minor": 5
}
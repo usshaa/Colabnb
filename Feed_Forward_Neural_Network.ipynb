{
  "nbformat": 4,
  "nbformat_minor": 0,
  "metadata": {
    "colab": {
      "provenance": [],
      "authorship_tag": "ABX9TyNu/PjEPMhH6AyQcaaQSq5O",
      "include_colab_link": true
    },
    "kernelspec": {
      "name": "python3",
      "display_name": "Python 3"
    },
    "language_info": {
      "name": "python"
    }
  },
  "cells": [
    {
      "cell_type": "markdown",
      "metadata": {
        "id": "view-in-github",
        "colab_type": "text"
      },
      "source": [
        "<a href=\"https://colab.research.google.com/github/usshaa/Colabnb/blob/main/Feed_Forward_Neural_Network.ipynb\" target=\"_parent\"><img src=\"https://colab.research.google.com/assets/colab-badge.svg\" alt=\"Open In Colab\"/></a>"
      ]
    },
    {
      "cell_type": "markdown",
      "source": [
        "Binary Classification using synthetic data (based on XOR logic)"
      ],
      "metadata": {
        "id": "rONhBJCATlww"
      }
    },
    {
      "cell_type": "markdown",
      "source": [
        "| **Concept**              | **Where It Appears**                        | **Explanation**                                      |\n",
        "| ------------------------ | ------------------------------------------- | ---------------------------------------------------- |\n",
        "| **Feed Forward Network** | `Sequential([...])`                         | Layers are stacked in order: input → hidden → output |\n",
        "| **Input Layer**          | `input_shape=(2,)` in first `Dense` layer   | Accepts 2 features (XOR inputs)                      |\n",
        "| **Hidden Layer**         | `Dense(4, activation='relu')`               | Applies ReLU activation for non-linearity            |\n",
        "| **Output Layer**         | `Dense(1, activation='sigmoid')`            | Binary output (0 or 1) using Sigmoid                 |\n",
        "| **Activation Functions** | `activation='relu'`, `activation='sigmoid'` | ReLU in hidden, Sigmoid in output                    |\n",
        "| **Loss Function**        | `BinaryCrossentropy()`                      | Binary classification loss                           |\n",
        "| **Optimizer**            | `Adam(learning_rate=0.01)`                  | Adaptive optimizer                                   |\n",
        "| **Back Propagation**     | `model.fit()`                               | Automatically handled by TensorFlow                  |\n",
        "| **Loss Curve Plot**      | `plt.plot(history.history['loss'])`         | Visualizing training performance                     |\n"
      ],
      "metadata": {
        "id": "hhJ-pawuT7GY"
      }
    },
    {
      "cell_type": "code",
      "source": [
        "import numpy as np\n",
        "import tensorflow as tf\n",
        "from tensorflow.keras.models import Sequential\n",
        "from tensorflow.keras.layers import Dense\n",
        "from tensorflow.keras.optimizers import SGD, Adam\n",
        "from tensorflow.keras.losses import BinaryCrossentropy\n",
        "import matplotlib.pyplot as plt"
      ],
      "metadata": {
        "id": "4l5a9_jBThF4"
      },
      "execution_count": 1,
      "outputs": []
    },
    {
      "cell_type": "code",
      "source": [
        "# 1. Input data (XOR Problem - Non-linear)\n",
        "X = np.array([[0, 0],\n",
        "              [0, 1],\n",
        "              [1, 0],\n",
        "              [1, 1]], dtype=np.float32)\n",
        "y = np.array([[0], [1], [1], [0]], dtype=np.float32)"
      ],
      "metadata": {
        "id": "4fqOUvroTqfs"
      },
      "execution_count": 2,
      "outputs": []
    },
    {
      "cell_type": "code",
      "source": [
        "# 2. Build Feed Forward Neural Network\n",
        "model = Sequential([\n",
        "    Dense(4, input_shape=(2,), activation='relu'),     # Hidden layer\n",
        "    Dense(1, activation='sigmoid')                     # Output layer\n",
        "])"
      ],
      "metadata": {
        "colab": {
          "base_uri": "https://localhost:8080/"
        },
        "id": "luI7XnL_Tsy5",
        "outputId": "6c953146-14c9-4030-f107-16a990bf7510"
      },
      "execution_count": 3,
      "outputs": [
        {
          "output_type": "stream",
          "name": "stderr",
          "text": [
            "/usr/local/lib/python3.11/dist-packages/keras/src/layers/core/dense.py:87: UserWarning: Do not pass an `input_shape`/`input_dim` argument to a layer. When using Sequential models, prefer using an `Input(shape)` object as the first layer in the model instead.\n",
            "  super().__init__(activity_regularizer=activity_regularizer, **kwargs)\n"
          ]
        }
      ]
    },
    {
      "cell_type": "code",
      "source": [
        "# 3. Compile model (choose loss function & optimizer)\n",
        "model.compile(optimizer=Adam(learning_rate=0.01),\n",
        "              loss=BinaryCrossentropy(),\n",
        "              metrics=['accuracy'])"
      ],
      "metadata": {
        "id": "FgJrxQVETumV"
      },
      "execution_count": 4,
      "outputs": []
    },
    {
      "cell_type": "code",
      "source": [
        "# 4. Train the model\n",
        "history = model.fit(X, y, epochs=500, verbose=0)"
      ],
      "metadata": {
        "id": "3I-9fb4eTwD-"
      },
      "execution_count": 5,
      "outputs": []
    },
    {
      "cell_type": "code",
      "source": [
        "# 5. Evaluate the model\n",
        "loss, accuracy = model.evaluate(X, y)\n",
        "print(f\"\\nTest Accuracy: {accuracy * 100:.2f}%\")"
      ],
      "metadata": {
        "colab": {
          "base_uri": "https://localhost:8080/"
        },
        "id": "uM-PqW_0TxcK",
        "outputId": "a2094e12-7a04-42f8-fdff-3a2401ecbfb1"
      },
      "execution_count": 6,
      "outputs": [
        {
          "output_type": "stream",
          "name": "stdout",
          "text": [
            "\u001b[1m1/1\u001b[0m \u001b[32m━━━━━━━━━━━━━━━━━━━━\u001b[0m\u001b[37m\u001b[0m \u001b[1m0s\u001b[0m 171ms/step - accuracy: 1.0000 - loss: 0.0184\n",
            "\n",
            "Test Accuracy: 100.00%\n"
          ]
        }
      ]
    },
    {
      "cell_type": "code",
      "source": [
        "# 6. Make predictions\n",
        "predictions = model.predict(X)\n",
        "print(\"\\nPredictions:\")\n",
        "for i, pred in enumerate(predictions):\n",
        "    print(f\"Input: {X[i]} => Prediction: {pred[0]:.4f} (Actual: {y[i][0]})\")"
      ],
      "metadata": {
        "colab": {
          "base_uri": "https://localhost:8080/"
        },
        "id": "G-29YCmhTywN",
        "outputId": "f9f48bde-c34d-487f-db21-382a3c0946f5"
      },
      "execution_count": 7,
      "outputs": [
        {
          "output_type": "stream",
          "name": "stdout",
          "text": [
            "\u001b[1m1/1\u001b[0m \u001b[32m━━━━━━━━━━━━━━━━━━━━\u001b[0m\u001b[37m\u001b[0m \u001b[1m0s\u001b[0m 63ms/step\n",
            "\n",
            "Predictions:\n",
            "Input: [0. 0.] => Prediction: 0.0545 (Actual: 0.0)\n",
            "Input: [0. 1.] => Prediction: 0.9928 (Actual: 1.0)\n",
            "Input: [1. 0.] => Prediction: 0.9929 (Actual: 1.0)\n",
            "Input: [1. 1.] => Prediction: 0.0030 (Actual: 0.0)\n"
          ]
        }
      ]
    },
    {
      "cell_type": "code",
      "source": [
        "# 7. Plot the loss curve\n",
        "plt.plot(history.history['loss'], label='Loss')\n",
        "plt.xlabel('Epoch')\n",
        "plt.ylabel('Loss')\n",
        "plt.title('Loss during Training')\n",
        "plt.legend()\n",
        "plt.show()"
      ],
      "metadata": {
        "colab": {
          "base_uri": "https://localhost:8080/",
          "height": 472
        },
        "id": "-jXKA4t5T0Ou",
        "outputId": "be0ebdc9-64a1-49bb-d7fc-ffcd6ce7f03a"
      },
      "execution_count": 8,
      "outputs": [
        {
          "output_type": "display_data",
          "data": {
            "text/plain": [
              "<Figure size 640x480 with 1 Axes>"
            ],
            "image/png": "[encoded data removed]"
          },
          "metadata": {}
        }
      ]
    },
    {
      "cell_type": "code",
      "source": [],
      "metadata": {
        "id": "tvCaCZfxT00c"
      },
      "execution_count": null,
      "outputs": []
    }
  ]
}
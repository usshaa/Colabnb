{
  "nbformat": 4,
  "nbformat_minor": 0,
  "metadata": {
    "colab": {
      "provenance": [],
      "authorship_tag": "ABX9TyN+1UWuDcmm/SM/Nsmm6f+l",
      "include_colab_link": true
    },
    "kernelspec": {
      "name": "python3",
      "display_name": "Python 3"
    },
    "language_info": {
      "name": "python"
    }
  },
  "cells": [
    {
      "cell_type": "markdown",
      "metadata": {
        "id": "view-in-github",
        "colab_type": "text"
      },
      "source": [
        "<a href=\"https://colab.research.google.com/github/usshaa/Colabnb/blob/main/Gradient_Descent_%26_Optimizer_Strategies.ipynb\" target=\"_parent\"><img src=\"https://colab.research.google.com/assets/colab-badge.svg\" alt=\"Open In Colab\"/></a>"
      ]
    },
    {
      "cell_type": "markdown",
      "source": [
        "## **Gradient Descent & Optimizer Strategies**\n",
        "\n",
        "### **Learning Objectives**\n",
        "\n",
        "* Understand how different gradient descent strategies work.\n",
        "* Compare optimizer performance (SGD, Momentum, RMSProp, Adam, etc.)\n",
        "* Visualize how optimizers affect training speed and convergence.\n",
        "* Address common challenges: **vanishing** and **exploding** gradients.\n",
        "* Learn how techniques like **early stopping** and **gradient clipping** help mitigate optimizer-related issues."
      ],
      "metadata": {
        "id": "CpsxxH0C-EHs"
      }
    },
    {
      "cell_type": "markdown",
      "source": [
        "### **1. Setup & Dataset**"
      ],
      "metadata": {
        "id": "VeLdd8dz-GZg"
      }
    },
    {
      "cell_type": "code",
      "source": [
        "import numpy as np\n",
        "import matplotlib.pyplot as plt\n",
        "import tensorflow as tf\n",
        "from tensorflow.keras.models import Sequential\n",
        "from tensorflow.keras.layers import Dense\n",
        "from tensorflow.keras.optimizers import SGD, Adam, RMSprop, Adagrad\n",
        "from sklearn.model_selection import train_test_split\n",
        "from sklearn.preprocessing import StandardScaler"
      ],
      "metadata": {
        "id": "APa_b_RQ-JXD"
      },
      "execution_count": 72,
      "outputs": []
    },
    {
      "cell_type": "code",
      "source": [
        "# Load a synthetic regression dataset\n",
        "from sklearn.datasets import make_regression"
      ],
      "metadata": {
        "id": "Im8jz1uY-LDI"
      },
      "execution_count": 73,
      "outputs": []
    },
    {
      "cell_type": "code",
      "source": [
        "X, y = make_regression(n_samples=1000, n_features=20, noise=10)\n",
        "X_train, X_test, y_train, y_test = train_test_split(X, y, test_size=0.2, random_state=42)"
      ],
      "metadata": {
        "id": "A0BvKrSi-Mrm"
      },
      "execution_count": 74,
      "outputs": []
    },
    {
      "cell_type": "code",
      "source": [
        "scaler = StandardScaler()\n",
        "X_train = scaler.fit_transform(X_train)\n",
        "X_test = scaler.transform(X_test)"
      ],
      "metadata": {
        "id": "D3TF1kCk-Oq4"
      },
      "execution_count": 75,
      "outputs": []
    },
    {
      "cell_type": "markdown",
      "source": [
        "### **2. Define a Simple Neural Network**"
      ],
      "metadata": {
        "id": "0a0f3OoB-QUA"
      }
    },
    {
      "cell_type": "code",
      "source": [
        "def build_model():\n",
        "    model = Sequential()\n",
        "    model.add(Dense(64, activation='relu', input_dim=20))\n",
        "    model.add(Dense(64, activation='relu'))\n",
        "    model.add(Dense(1))\n",
        "    return model"
      ],
      "metadata": {
        "id": "Z-_3Fq1e-SsX"
      },
      "execution_count": 76,
      "outputs": []
    },
    {
      "cell_type": "markdown",
      "source": [
        "### **3. Try with Different Optimizers**"
      ],
      "metadata": {
        "id": "BD1k5sCl-VJN"
      }
    },
    {
      "cell_type": "markdown",
      "source": [
        "#### 🔸 A. Stochastic Gradient Descent (SGD)"
      ],
      "metadata": {
        "id": "jUJUHyso-XLE"
      }
    },
    {
      "cell_type": "code",
      "source": [
        "model_sgd = build_model()\n",
        "model_sgd.compile(optimizer=SGD(learning_rate=0.01), loss='mse', metrics=['mae'])\n",
        "history_sgd = model_sgd.fit(X_train, y_train, validation_split=0.2, epochs=50, verbose=0)"
      ],
      "metadata": {
        "colab": {
          "base_uri": "https://localhost:8080/"
        },
        "id": "v0TJvnki-Zjp",
        "outputId": "420589c5-ae35-4387-c374-340161224ed2"
      },
      "execution_count": 77,
      "outputs": [
        {
          "output_type": "stream",
          "name": "stderr",
          "text": [
            "/usr/local/lib/python3.11/dist-packages/keras/src/layers/core/dense.py:87: UserWarning: Do not pass an `input_shape`/`input_dim` argument to a layer. When using Sequential models, prefer using an `Input(shape)` object as the first layer in the model instead.\n",
            "  super().__init__(activity_regularizer=activity_regularizer, **kwargs)\n"
          ]
        }
      ]
    },
    {
      "cell_type": "markdown",
      "source": [
        "#### 🔸 B. SGD with Momentum"
      ],
      "metadata": {
        "id": "ypEXyM_A-cQj"
      }
    },
    {
      "cell_type": "code",
      "source": [
        "model_momentum = build_model()\n",
        "model_momentum.compile(optimizer=SGD(learning_rate=0.01, momentum=0.9), loss='mse', metrics=['mae'])\n",
        "history_momentum = model_momentum.fit(X_train, y_train, validation_split=0.2, epochs=50, verbose=0)"
      ],
      "metadata": {
        "id": "z1VYXfkt-bpt"
      },
      "execution_count": 78,
      "outputs": []
    },
    {
      "cell_type": "markdown",
      "source": [
        "#### 🔸 C. RMSProp"
      ],
      "metadata": {
        "id": "pxR6leXL-gqB"
      }
    },
    {
      "cell_type": "code",
      "source": [
        "model_rmsprop = build_model()\n",
        "model_rmsprop.compile(optimizer=RMSprop(learning_rate=0.001), loss='mse', metrics=['mae'])\n",
        "history_rmsprop = model_rmsprop.fit(X_train, y_train, validation_split=0.2, epochs=50, verbose=0)"
      ],
      "metadata": {
        "id": "MD_flR2R-ioG"
      },
      "execution_count": 79,
      "outputs": []
    },
    {
      "cell_type": "markdown",
      "source": [
        "#### 🔸 D. Adam"
      ],
      "metadata": {
        "id": "rLfkT8jz-lC0"
      }
    },
    {
      "cell_type": "code",
      "source": [
        "model_adam = build_model()\n",
        "model_adam.compile(optimizer=Adam(learning_rate=0.001), loss='mse', metrics=['mae'])\n",
        "history_adam = model_adam.fit(X_train, y_train, validation_split=0.2, epochs=50, verbose=0)"
      ],
      "metadata": {
        "id": "HAhz2_dY-nNU"
      },
      "execution_count": 80,
      "outputs": []
    },
    {
      "cell_type": "markdown",
      "source": [
        "### **4. Visual Comparison of Loss Curves**"
      ],
      "metadata": {
        "id": "SJV8wRYr-p02"
      }
    },
    {
      "cell_type": "code",
      "source": [
        "plt.figure(figsize=(12,6))\n",
        "\n",
        "plt.plot(history_sgd.history['val_loss'], label='SGD')\n",
        "plt.plot(history_momentum.history['val_loss'], label='Momentum')\n",
        "plt.plot(history_rmsprop.history['val_loss'], label='RMSProp')\n",
        "plt.plot(history_adam.history['val_loss'], label='Adam')\n",
        "\n",
        "plt.title('Validation Loss Comparison')\n",
        "plt.xlabel('Epochs')\n",
        "plt.ylabel('Loss')\n",
        "plt.legend()\n",
        "plt.grid(True)\n",
        "plt.show()"
      ],
      "metadata": {
        "colab": {
          "base_uri": "https://localhost:8080/",
          "height": 564
        },
        "id": "b0BKH-3W-sjc",
        "outputId": "6c00cef6-5660-424f-fa03-1874aa159125"
      },
      "execution_count": 81,
      "outputs": [
        {
          "output_type": "display_data",
          "data": {
            "text/plain": [
              "<Figure size 1200x600 with 1 Axes>"
            ],
            "image/png": "[encoded data removed]"
          },
          "metadata": {}
        }
      ]
    },
    {
      "cell_type": "markdown",
      "source": [
        "### **5. Explaining Vanishing & Exploding Gradient**"
      ],
      "metadata": {
        "id": "mz4bWX5D-uuG"
      }
    },
    {
      "cell_type": "markdown",
      "source": [
        "* Use deep network to show vanishing gradient\n"
      ],
      "metadata": {
        "id": "BMdAw99M-w1r"
      }
    },
    {
      "cell_type": "code",
      "source": [
        "model_deep = Sequential()"
      ],
      "metadata": {
        "id": "pbWKh1yh-zj5"
      },
      "execution_count": 82,
      "outputs": []
    },
    {
      "cell_type": "code",
      "source": [
        "for _ in range(10):  # More layers = more vanishing/exploding\n",
        "    model_deep.add(Dense(128, activation='sigmoid', input_dim=20))\n",
        "model_deep.add(Dense(1))"
      ],
      "metadata": {
        "id": "R8yqGpzX-1QS"
      },
      "execution_count": 83,
      "outputs": []
    },
    {
      "cell_type": "code",
      "source": [
        "model_deep.compile(optimizer='sgd', loss='mse')\n",
        "history_deep = model_deep.fit(X_train, y_train, validation_split=0.2, epochs=20, verbose=0)"
      ],
      "metadata": {
        "id": "JLVeD1LR-48b"
      },
      "execution_count": 84,
      "outputs": []
    },
    {
      "cell_type": "markdown",
      "source": [
        "# \"Why sigmoid + deep layers lead to vanishing gradients?\""
      ],
      "metadata": {
        "id": "HedJO49f_Cvx"
      }
    },
    {
      "cell_type": "markdown",
      "source": [
        "### **6. Fix: Use ReLU & He Initialization**"
      ],
      "metadata": {
        "id": "3kuR_BF9_FHv"
      }
    },
    {
      "cell_type": "code",
      "source": [
        "model_relu = Sequential()"
      ],
      "metadata": {
        "id": "wXcJS-ef_Hrz"
      },
      "execution_count": 85,
      "outputs": []
    },
    {
      "cell_type": "code",
      "source": [
        "for _ in range(10):\n",
        "    model_relu.add(Dense(128, activation='relu', kernel_initializer='he_normal', input_dim=20))\n",
        "model_relu.add(Dense(1))"
      ],
      "metadata": {
        "id": "y932ns6h_JwO"
      },
      "execution_count": 86,
      "outputs": []
    },
    {
      "cell_type": "code",
      "source": [
        "model_relu.compile(optimizer='sgd', loss='mse')\n",
        "history_relu = model_relu.fit(X_train, y_train, validation_split=0.2, epochs=20, verbose=0)"
      ],
      "metadata": {
        "id": "FKCWacYp_LQU"
      },
      "execution_count": 87,
      "outputs": []
    },
    {
      "cell_type": "markdown",
      "source": [
        "### **7. Early Stopping Implementation**"
      ],
      "metadata": {
        "id": "ZhcVwoeW_SnP"
      }
    },
    {
      "cell_type": "code",
      "source": [
        "from tensorflow.keras.callbacks import EarlyStopping"
      ],
      "metadata": {
        "id": "lPLjoM4j_Wqz"
      },
      "execution_count": 88,
      "outputs": []
    },
    {
      "cell_type": "code",
      "source": [
        "model_es = build_model()\n",
        "early_stop = EarlyStopping(monitor='val_loss', patience=5)"
      ],
      "metadata": {
        "id": "SJ2E12ZE_YHm"
      },
      "execution_count": 89,
      "outputs": []
    },
    {
      "cell_type": "code",
      "source": [
        "model_es.compile(optimizer='adam', loss='mse')\n",
        "history_es = model_es.fit(X_train, y_train, validation_split=0.2, epochs=100, callbacks=[early_stop], verbose=0)"
      ],
      "metadata": {
        "id": "O4KFHMKj_ZjH"
      },
      "execution_count": 90,
      "outputs": []
    },
    {
      "cell_type": "markdown",
      "source": [
        "### **8. Gradient Clipping**"
      ],
      "metadata": {
        "id": "7nIiDDT-_Umh"
      }
    },
    {
      "cell_type": "code",
      "source": [
        "from tensorflow.keras.optimizers import Adam"
      ],
      "metadata": {
        "id": "y3NrZrW8_e2O"
      },
      "execution_count": 91,
      "outputs": []
    },
    {
      "cell_type": "code",
      "source": [
        "opt_clip = Adam(learning_rate=0.001, clipnorm=1.0)"
      ],
      "metadata": {
        "id": "wVP2JAdM_gDA"
      },
      "execution_count": 92,
      "outputs": []
    },
    {
      "cell_type": "code",
      "execution_count": 93,
      "metadata": {
        "id": "hqDp_Juh3bRW"
      },
      "outputs": [],
      "source": [
        "model_clip = build_model()\n",
        "model_clip.compile(optimizer=opt_clip, loss='mse')\n",
        "history_clip = model_clip.fit(X_train, y_train, validation_split=0.2, epochs=50, verbose=0)"
      ]
    },
    {
      "cell_type": "markdown",
      "source": [
        "### Summary Table of Optimizers\n",
        "\n",
        "| Optimizer | Pros                              | Cons                                |\n",
        "| --------- | --------------------------------- | ----------------------------------- |\n",
        "| SGD       | Simple, stable                    | Slow convergence                    |\n",
        "| Momentum  | Faster convergence than SGD       | Sensitive to learning rate          |\n",
        "| RMSProp   | Handles non-stationary objectives | Can overfit without tuning          |\n",
        "| Adam      | Fast and adaptive                 | Might converge to suboptimal minima |"
      ],
      "metadata": {
        "id": "8jrPWZTZ94sj"
      }
    },
    {
      "cell_type": "code",
      "source": [],
      "metadata": {
        "id": "zQeAidO995Pc"
      },
      "execution_count": null,
      "outputs": []
    }
  ]
}